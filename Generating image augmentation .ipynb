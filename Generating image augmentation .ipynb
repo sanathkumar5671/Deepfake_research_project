{
 "cells": [
  {
   "cell_type": "code",
   "execution_count": 1,
   "id": "eaa9f4e6",
   "metadata": {},
   "outputs": [],
   "source": [
    "# Import utilities\n",
    "import numpy as np # linear algebra\n",
    "import pandas as pd # data processing, CSV file I/O (e.g. pd.read_csv)\n",
    "\n",
    "import os\n",
    "# Import Image manipulation\n",
    "from PIL import Image\n",
    "\n",
    "# Import data visualization\n",
    "from matplotlib import pyplot as plt\n",
    "import matplotlib.patches as patches\n",
    "import matplotlib\n",
    "\n",
    "# Import PyTorch\n",
    "import torch\n",
    "from torch import nn\n",
    "import torch.nn.functional as F\n",
    "import torchvision.transforms.functional as TF\n",
    "from torch.utils.data import Dataset, DataLoader\n",
    "# import the library and helpers\n",
    "import imageio\n",
    "import imgaug as ia\n",
    "from imgaug import augmenters as iaa"
   ]
  },
  {
   "cell_type": "markdown",
   "id": "a86e1436",
   "metadata": {},
   "source": [
    "# CELEB DF Dataset"
   ]
  },
  {
   "cell_type": "code",
   "execution_count": 2,
   "id": "f1ba39c5",
   "metadata": {},
   "outputs": [],
   "source": [
    "#CELEB-DF dataset\n",
    "\n",
    "#image = imageio.imread('Dataset/Celeb-DF-v2/dataset_24/real/id0_0004_0.jpg')\n",
    "data_dir = 'Dataset/Celeb-DF-v2/dataset_24/real/'\n",
    "real_data = [f for f in os.listdir(data_dir) if f.endswith('.jpg')]\n",
    "# new_real = []\n",
    "# for i in real_data:\n",
    "#     str = i\n",
    "#     chunks = str.split('_')\n",
    "#     if(chunks[0] == \"id0\"):\n",
    "#         new_real.append(i)\n",
    "#     elif(chunks[0] == \"id1\"):\n",
    "#         new_real.append(i)\n"
   ]
  },
  {
   "cell_type": "code",
   "execution_count": 10,
   "id": "4b985b35",
   "metadata": {},
   "outputs": [],
   "source": [
    "# import albumentations package\n",
    "import albumentations as A\n",
    "\n",
    "# import pytorch utilities from albumentations\n",
    "from albumentations.pytorch.transforms import img_to_tensor\n",
    "\n",
    "# Compose a complex augmentation pipeline\n",
    "augmentation_pipeline = A.Compose(\n",
    "    [\n",
    "        A.HorizontalFlip(p = 0.5), # apply horizontal flip to 50% of images\n",
    "        A.OneOf(\n",
    "            [\n",
    "                # apply one of transforms to 50% of images\n",
    "                A.RandomGamma(), # apply random gamma\n",
    "                A.RandomBrightnessContrast(), # apply random brightness\n",
    "            ],\n",
    "            p = 0.5\n",
    "        ),\n",
    "        A.HueSaturationValue(p=0.5),\n",
    "        A.ISONoise(p=0.5),\n",
    "        A.GaussNoise(p=0.5),\n",
    "    ],\n",
    "    p = 1\n",
    ")\n"
   ]
  },
  {
   "cell_type": "code",
   "execution_count": 9,
   "id": "f3c72968",
   "metadata": {},
   "outputs": [],
   "source": [
    "#REAL_IMAGE APPLYING TO THE PIPELINE\n",
    "count = 0\n",
    "for j in real_data:\n",
    "    z = data_dir +j\n",
    "    im = imageio.imread(z)\n",
    "    images_aug = np.array([augmentation_pipeline(image = im)['image'] for _ in range(20)])\n",
    "    for i, image_aug in enumerate(images_aug):\n",
    "        imageio.imwrite(os.path.join('Dataset/Celeb-DF-v2/data_aug/real/', \"%04d.jpg\" % (count)), image_aug)\n",
    "        count = count + 1"
   ]
  },
  {
   "cell_type": "code",
   "execution_count": 10,
   "id": "021163ad",
   "metadata": {},
   "outputs": [],
   "source": [
    "# GETTING FAKE IMAGE \n",
    "data_dir_f = 'Dataset/Celeb-DF-v2/dataset_24/fake/'\n",
    "fake_data = [f for f in os.listdir(data_dir_f) if f.endswith('.jpg')]\n",
    "# new_fake = []\n",
    "# for i in fake_data:\n",
    "#     str = i\n",
    "#     chunks = str.split('_')\n",
    "#     if(chunks[0] == \"id0\"):\n",
    "#         new_fake.append(i)\n",
    "#     elif(chunks[0] == \"id1\"):\n",
    "#         new_fake.append(i)\n",
    "        \n"
   ]
  },
  {
   "cell_type": "code",
   "execution_count": 11,
   "id": "61a6df04",
   "metadata": {},
   "outputs": [
    {
     "name": "stdout",
     "output_type": "stream",
     "text": [
      "COMPLETED!\n"
     ]
    }
   ],
   "source": [
    "# FAKE_IMAGE APPLYING IT TO THE PIPELINE\n",
    "\n",
    "count = 0\n",
    "for j in fake_data:\n",
    "    z = data_dir_f +j\n",
    "    im = imageio.imread(z)\n",
    "    images_aug = np.array([augmentation_pipeline(image = im)['image'] for _ in range(1)])\n",
    "    for i, image_aug in enumerate(images_aug):\n",
    "        imageio.imwrite(os.path.join('Dataset/Celeb-DF-v2/data_aug/fake/', \"%04d.jpg\" % (count,)), image_aug)\n",
    "        count = count + 1\n",
    "\n",
    "print(\"COMPLETED!\")"
   ]
  },
  {
   "cell_type": "markdown",
   "id": "54f9db7d",
   "metadata": {},
   "source": [
    "# Deepfake Detection Challenge Dataset"
   ]
  },
  {
   "cell_type": "code",
   "execution_count": 68,
   "id": "cb77303d",
   "metadata": {},
   "outputs": [],
   "source": [
    "#REAL IMAGE DATASET\n",
    "ddff_real = 'Dataset/deepfake-detection-challenge/dataset_24/real/'\n",
    "ddff_real_data = [f for f in os.listdir(ddff_real) if f.endswith('.jpg')]"
   ]
  },
  {
   "cell_type": "code",
   "execution_count": 70,
   "id": "b141e556",
   "metadata": {},
   "outputs": [
    {
     "name": "stdout",
     "output_type": "stream",
     "text": [
      "COMPLETED!\n"
     ]
    }
   ],
   "source": [
    "#PIPELINE FOR REAL IMAGE\n",
    "count = 0\n",
    "for i in ddff_real_data:\n",
    "    z = ddff_real + i\n",
    "    im = imageio.imread(z)\n",
    "    images_aug = np.array([augmentation_pipeline(image = im)['image'] for _ in range(15)])\n",
    "    for i, image_aug in enumerate(images_aug):\n",
    "        imageio.imwrite(os.path.join('Dataset/deepfake-detection-challenge/data_aug/real/', \"%04d.jpg\" % (i + count,)), image_aug)\n",
    "        count = count + 1\n",
    "\n",
    "print(\"COMPLETED!\")"
   ]
  },
  {
   "cell_type": "code",
   "execution_count": 73,
   "id": "f7183f0b",
   "metadata": {},
   "outputs": [],
   "source": [
    "#FAKE IMAGE DATASET\n",
    "ddff_fake = 'Dataset/deepfake-detection-challenge/dataset_24/fake/'\n",
    "ddff_fake_data = [f for f in os.listdir(ddff_fake) if f.endswith('.jpg')]"
   ]
  },
  {
   "cell_type": "code",
   "execution_count": 74,
   "id": "73fa4ada",
   "metadata": {},
   "outputs": [
    {
     "name": "stdout",
     "output_type": "stream",
     "text": [
      "COMPLETED!\n"
     ]
    }
   ],
   "source": [
    "#PIPELINE FOR FAKE IMAGE\n",
    "count = 0\n",
    "for i in ddff_fake_data:\n",
    "    z = ddff_fake + i\n",
    "    im = imageio.imread(z)\n",
    "    images_aug = np.array([augmentation_pipeline(image = im)['image'] for _ in range(15)])\n",
    "    for i, image_aug in enumerate(images_aug):\n",
    "        imageio.imwrite(os.path.join('Dataset/deepfake-detection-challenge/data_aug/fake/', \"%04d.jpg\" % (i + count,)), image_aug)\n",
    "        count = count + 1\n",
    "\n",
    "print(\"COMPLETED!\")"
   ]
  },
  {
   "cell_type": "markdown",
   "id": "e148b4d9",
   "metadata": {},
   "source": [
    "# FF++ Dataset"
   ]
  },
  {
   "cell_type": "code",
   "execution_count": 12,
   "id": "c0688fe2",
   "metadata": {},
   "outputs": [],
   "source": [
    "#REAL IMAGE DATASET\n",
    "ff_real = 'Dataset/extract_data/dataset_24/real/'\n",
    "ff_real_data = [f for f in os.listdir(ff_real) if f.endswith('.jpg')]"
   ]
  },
  {
   "cell_type": "code",
   "execution_count": 13,
   "id": "d0cf6167",
   "metadata": {},
   "outputs": [],
   "source": [
    "#PIPELINE FOR REAL IMAGE\n",
    "count = 0\n",
    "for j in ff_real_data:\n",
    "    z = ff_real +j\n",
    "    im = imageio.imread(z)\n",
    "    images_aug = np.array([augmentation_pipeline(image = im)['image'] for _ in range(25)])\n",
    "    for i, image_aug in enumerate(images_aug):\n",
    "        imageio.imwrite(os.path.join('Dataset/extract_data/data_aug/real/', \"%04d.jpg\" % (count)), image_aug)\n",
    "        count = count + 1"
   ]
  },
  {
   "cell_type": "code",
   "execution_count": 14,
   "id": "4a7a046d",
   "metadata": {},
   "outputs": [],
   "source": [
    "#FAKE IMAGE DATASET\n",
    "ff_fake = 'Dataset/extract_data/dataset_24/fake/'\n",
    "ff_fake_data = [f for f in os.listdir(ff_fake) if f.endswith('.jpg')]\n",
    "#ff_new_fake = []\n",
    "# for i in ff_fake_data:\n",
    "#     str = i\n",
    "#     chunks = str.split('_')\n",
    "#     if(chunks[0] == \"01\"):\n",
    "#         ff_new_fake.append(i)\n",
    "#     elif(chunks[0] == \"02\"):\n",
    "#         ff_new_fake.append(i)\n",
    "        \n"
   ]
  },
  {
   "cell_type": "code",
   "execution_count": 15,
   "id": "d6f7bb4f",
   "metadata": {},
   "outputs": [
    {
     "name": "stdout",
     "output_type": "stream",
     "text": [
      "Completed!!\n"
     ]
    }
   ],
   "source": [
    "#PIPELINE FOR FAKE IMAGE\n",
    "count = 0\n",
    "for j in ff_fake_data:\n",
    "    z = ff_fake +j\n",
    "    im = imageio.imread(z)\n",
    "    images_aug = np.array([augmentation_pipeline(image = im)['image'] for _ in range(2)])\n",
    "    for i, image_aug in enumerate(images_aug):\n",
    "        imageio.imwrite(os.path.join('Dataset/extract_data/data_aug/fake/', \"%04d.jpg\" % (count)), image_aug)\n",
    "        count = count + 1\n",
    "\n",
    "print(\"Completed!!\")"
   ]
  },
  {
   "cell_type": "code",
   "execution_count": 6,
   "id": "85456129",
   "metadata": {},
   "outputs": [
    {
     "data": {
      "text/plain": [
       "234"
      ]
     },
     "execution_count": 6,
     "metadata": {},
     "output_type": "execute_result"
    }
   ],
   "source": [
    "len(ff_real_data) "
   ]
  },
  {
   "cell_type": "code",
   "execution_count": 7,
   "id": "14136b73",
   "metadata": {},
   "outputs": [
    {
     "data": {
      "text/plain": [
       "2818"
      ]
     },
     "execution_count": 7,
     "metadata": {},
     "output_type": "execute_result"
    }
   ],
   "source": [
    "len(ff_fake_data) "
   ]
  },
  {
   "cell_type": "code",
   "execution_count": null,
   "id": "8fe99163",
   "metadata": {},
   "outputs": [],
   "source": []
  }
 ],
 "metadata": {
  "kernelspec": {
   "display_name": "Python 3 (ipykernel)",
   "language": "python",
   "name": "python3"
  },
  "language_info": {
   "codemirror_mode": {
    "name": "ipython",
    "version": 3
   },
   "file_extension": ".py",
   "mimetype": "text/x-python",
   "name": "python",
   "nbconvert_exporter": "python",
   "pygments_lexer": "ipython3",
   "version": "3.8.10"
  }
 },
 "nbformat": 4,
 "nbformat_minor": 5
}
