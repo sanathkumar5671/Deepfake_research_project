{
 "cells": [
  {
   "cell_type": "code",
   "execution_count": 1,
   "id": "dfc94fd8",
   "metadata": {},
   "outputs": [],
   "source": [
    "import dlib\n",
    "import cv2\n",
    "import os\n",
    "import re\n",
    "import json\n",
    "from pylab import *\n",
    "from PIL import Image, ImageChops, ImageEnhance\n"
   ]
  },
  {
   "cell_type": "code",
   "execution_count": 2,
   "id": "09a139cc",
   "metadata": {},
   "outputs": [],
   "source": [
    "real_vid = 'D://Desktop/Project/Main/Dataset/Celeb-DF-v2/Celeb-real/'\n",
    "list_of_train_data = [f for f in os.listdir(real_vid) if f.endswith('.mp4')]\n",
    "detector = dlib.get_frontal_face_detector()\n",
    "for vid in list_of_train_data:\n",
    "    count = 0\n",
    "    cap = cv2.VideoCapture(os.path.join(real_vid, vid))\n",
    "    frameRate = cap.get(3)\n",
    "    while cap.isOpened():\n",
    "        frameId = cap.get(1)\n",
    "        ret, frame = cap.read()\n",
    "        if ret != True:\n",
    "            break\n",
    "        if frameId % ((int(frameRate)+1)*1) == 0:\n",
    "            face_rects, scores, idx = detector.run(frame, 0)\n",
    "            for i, d in enumerate(face_rects):\n",
    "                x1 = d.left()\n",
    "                y1 = d.top()\n",
    "                x2 = d.right()\n",
    "                y2 = d.bottom()\n",
    "                crop_img = frame[y1:y2, x1:x2]\n",
    "                try:\n",
    "                    cv2.imwrite('dataset_24/real/'+vid.split('.')[0]+'_'+str(count)+'.jpg', cv2.resize(crop_img, (224, 224)))\n",
    "                except Exception as e:\n",
    "                    print(str(e))\n",
    "                count+=1"
   ]
  },
  {
   "cell_type": "code",
   "execution_count": 3,
   "id": "767fc536",
   "metadata": {},
   "outputs": [],
   "source": [
    "fake_vid = 'D://Desktop/Project/Main/Dataset/Celeb-DF-v2/Celeb-synthesis/'\n",
    "list_of_train_data = [f for f in os.listdir(fake_vid) if f.endswith('.mp4')]\n",
    "detector = dlib.get_frontal_face_detector()\n",
    "for vid in list_of_train_data:\n",
    "    count = 0\n",
    "    cap = cv2.VideoCapture(os.path.join(fake_vid, vid))\n",
    "    frameRate = cap.get(3)\n",
    "    while cap.isOpened():\n",
    "        frameId = cap.get(1)\n",
    "        ret, frame = cap.read()\n",
    "        if ret != True:\n",
    "            break\n",
    "        if frameId % ((int(frameRate)+1)*1) == 0:\n",
    "            face_rects, scores, idx = detector.run(frame, 0)\n",
    "            for i, d in enumerate(face_rects):\n",
    "                x1 = d.left()\n",
    "                y1 = d.top()\n",
    "                x2 = d.right()\n",
    "                y2 = d.bottom()\n",
    "                crop_img = frame[y1:y2, x1:x2]\n",
    "                try:\n",
    "                    cv2.imwrite('dataset_24/fake/'+vid.split('.')[0]+'_'+str(count)+'.jpg', cv2.resize(crop_img, (224, 224)))\n",
    "                except Exception as e:\n",
    "                    print(str(e))\n",
    "                count+=1"
   ]
  },
  {
   "cell_type": "code",
   "execution_count": null,
   "id": "150412d0",
   "metadata": {},
   "outputs": [],
   "source": []
  }
 ],
 "metadata": {
  "kernelspec": {
   "display_name": "Python 3 (ipykernel)",
   "language": "python",
   "name": "python3"
  },
  "language_info": {
   "codemirror_mode": {
    "name": "ipython",
    "version": 3
   },
   "file_extension": ".py",
   "mimetype": "text/x-python",
   "name": "python",
   "nbconvert_exporter": "python",
   "pygments_lexer": "ipython3",
   "version": "3.8.10"
  }
 },
 "nbformat": 4,
 "nbformat_minor": 5
}
